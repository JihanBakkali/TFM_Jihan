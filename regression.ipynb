{
 "cells": [
  {
   "cell_type": "code",
   "execution_count": 1,
   "id": "24e0a4c6-fe72-4985-ab13-ae93b4f11492",
   "metadata": {},
   "outputs": [],
   "source": [
    "import matplotlib.pyplot as plt\n",
    "import seaborn as sns\n",
    "import pandas as pd\n",
    "from sklearn.preprocessing import StandardScaler\n",
    "from sklearn.model_selection import train_test_split, cross_val_score\n",
    "from sklearn.linear_model import LogisticRegression\n",
    "from sklearn.metrics import classification_report, accuracy_score\n",
    "from sklearn.metrics import confusion_matrix, accuracy_score, recall_score, f1_score, ConfusionMatrixDisplay, roc_curve, roc_auc_score, precision_recall_curve, precision_score"
   ]
  },
  {
   "cell_type": "code",
   "execution_count": 4,
   "id": "0e0ae52d-41f5-4172-bae1-f6812de8b314",
   "metadata": {},
   "outputs": [],
   "source": [
    "#Carreguem les taules de la base de dades (Prèviament passades a dataframe i guardades en arxiu .pickle)\n",
    "\n",
    "demog = pd.read_pickle('C:/Users/jbakk/OneDrive/Documentos/Proyectozero/tablas/demog.pickle')\n",
    "diag_dic = pd.read_csv('C:/Users/jbakk/OneDrive/Documentos/Proyectozero/tablas/diag_dic.csv', delimiter=';')\n",
    "diag_events = pd.read_pickle('C:/Users/jbakk/OneDrive/Documentos/Proyectozero/tablas/diag_events.pickle')\n",
    "k_anon_set = pd.read_pickle('C:/Users/jbakk/OneDrive/Documentos/Proyectozero/tablas/k_anon_set.pickle')\n",
    "lab_events = pd.read_pickle('C:/Users/jbakk/OneDrive/Documentos/Proyectozero/tablas/lab_events.pickle')\n",
    "monitor_dic = pd.read_pickle('C:/Users/jbakk/OneDrive/Documentos/Proyectozero/tablas/monitor_dic.pickle')\n",
    "monitor_events = pd.read_pickle('C:/Users/jbakk/OneDrive/Documentos/Proyectozero/tablas/monitor_events.pickle')\n",
    "ward_stay_events = pd.read_pickle('C:/Users/jbakk/OneDrive/Documentos/Proyectozero/tablas/ward_stay_events.pickle')"
   ]
  },
  {
   "cell_type": "markdown",
   "id": "3ae09dad-11c0-4cd3-a76a-12e79195932b",
   "metadata": {},
   "source": [
    "### REGRESSIÓ LOGÍSTICA - PREPROCESSAT"
   ]
  },
  {
   "cell_type": "markdown",
   "id": "1f4da054-11f4-4119-923a-9345b6617a1d",
   "metadata": {},
   "source": [
    "ITEM 2 (Frecuencia cardíaca ECG)"
   ]
  },
  {
   "cell_type": "code",
   "execution_count": 5,
   "id": "4d0d7d02-8bf6-416a-a26b-eab2ba29efcc",
   "metadata": {},
   "outputs": [
    {
     "name": "stdout",
     "output_type": "stream",
     "text": [
      "Registres guardats a: C:/Users/jbakk/OneDrive/Documentos/Proyectozero/dataset_ecg.csv\n"
     ]
    }
   ],
   "source": [
    "# Filtrar els registres per al m_item_id específic\n",
    "filtered_data = monitor_events[monitor_events['m_item_id'] == 2]\n",
    "\n",
    "# Ordenar les dades per 'patient_id' i 'm_events_datetime'\n",
    "filtered_data = filtered_data.sort_values(by=['patient_id', 'm_events_datetime'])\n",
    "\n",
    "# Calcular la diferència de temps entre registres consecutius per a cada pacient\n",
    "filtered_data['time_diff'] = filtered_data.groupby('patient_id')['m_events_datetime'].diff()\n",
    "filtered_data['time_diff_in_seconds'] = filtered_data['time_diff'].dt.total_seconds()\n",
    "\n",
    "# Funció per trobar seqüències de com a mínim 30 registres consecutius amb diferència de 5 minuts\n",
    "def find_sequences(data, time_diff_threshold=300, min_consecutive=30):\n",
    "    result = []\n",
    "    for patient_id, group in data.groupby('patient_id'):\n",
    "        count = 0\n",
    "        temp_sequence = []\n",
    "        last_valid_sequence = []\n",
    "        for i in range(1, len(group)):\n",
    "            if abs(group.iloc[i]['time_diff_in_seconds'] - time_diff_threshold) <= 6:\n",
    "                temp_sequence.append(group.iloc[i])\n",
    "                count += 1\n",
    "            else:\n",
    "                if count >= min_consecutive:\n",
    "                    last_valid_sequence = temp_sequence[:]\n",
    "                count = 0\n",
    "                temp_sequence = []\n",
    "            if count >= min_consecutive:\n",
    "                last_valid_sequence = temp_sequence[:]\n",
    "        if count >= min_consecutive:\n",
    "            last_valid_sequence = temp_sequence[:]\n",
    "        result.extend(last_valid_sequence)\n",
    "    return pd.DataFrame(result)\n",
    "\n",
    "# Trobar les seqüències\n",
    "consecutive_sequences = find_sequences(filtered_data)\n",
    "\n",
    "# Unir amb la taula ward_stay_events_table per obtenir dates d'admissió i alta\n",
    "consecutive_sequences = consecutive_sequences.merge(\n",
    "    ward_stay_events[['patient_id', 'hosp_stay_id', 'ward_stay_id', 'ward_adm_date', 'ward_disch_date', 'ward_stay_seq_num', 'to_icu']],\n",
    "    on=['patient_id', 'hosp_stay_id', 'ward_stay_id'],\n",
    "    how='left'\n",
    ")\n",
    "\n",
    "# Filtrar els registres perquè estiguin dins de l'interval d'admissió i d'alta del pacient\n",
    "consecutive_sequences = consecutive_sequences[\n",
    "    (consecutive_sequences['m_events_datetime'] >= consecutive_sequences['ward_adm_date']) &\n",
    "    (consecutive_sequences['m_events_datetime'] <= consecutive_sequences['ward_disch_date'])\n",
    "]\n",
    "\n",
    "# Assegurar eliminar duplicats\n",
    "consecutive_sequences = consecutive_sequences.drop_duplicates()\n",
    "\n",
    "# Obtenir els valors i convertir a format sol·licitat\n",
    "patient_sequences = consecutive_sequences.groupby('patient_id').agg({\n",
    "    'to_icu': 'first',\n",
    "    'value': lambda x: list(x)\n",
    "}).reset_index()\n",
    "\n",
    "# Limitar el nombre de valors a 30 i emplenar amb NaN si n'hi ha menys de 30\n",
    "def pad_or_truncate(lst, target_len=30):  # 30 valors, ja que la primera columna serà 'to_icu'\n",
    "    if len(lst) > target_len:\n",
    "        return lst[:target_len]\n",
    "    return lst + [None] * (target_len - len(lst))\n",
    "\n",
    "patient_sequences['value'] = patient_sequences['value'].apply(pad_or_truncate)\n",
    "\n",
    "# Crear un DataFrame on cada columna sigui un valor consecutiu de 'value'\n",
    "max_values = 30  # Limitar a 30 valores\n",
    "value_columns = pd.DataFrame(patient_sequences['value'].to_list(), columns=[f'value_{i+1}' for i in range(max_values)])\n",
    "\n",
    "# Combinar les columnes amb els resultats\n",
    "final_df = pd.concat([patient_sequences[['patient_id', 'to_icu']], value_columns], axis=1)\n",
    "\n",
    "# Especificar la ruta del fitxer on es desarà el CSV\n",
    "ruta_archivo = 'C:/Users/jbakk/OneDrive/Documentos/Proyectozero/dataset_ecg.csv'\n",
    "\n",
    "# Desar el DataFrame en un fitxer CSV a la ruta especificada\n",
    "final_df.to_csv(ruta_archivo, index=False)\n",
    "\n",
    "print(f'Registres guardats a: {ruta_archivo}')"
   ]
  },
  {
   "cell_type": "markdown",
   "id": "583befc7-2c33-4171-8b66-e4f3d4dc12b2",
   "metadata": {},
   "source": [
    "ITEM 9 (Pulsioximetria)"
   ]
  },
  {
   "cell_type": "code",
   "execution_count": 6,
   "id": "72fb226d-dacb-47ac-8212-36dc23748465",
   "metadata": {},
   "outputs": [
    {
     "name": "stdout",
     "output_type": "stream",
     "text": [
      "Registres guardats a: C:/Users/jbakk/OneDrive/Documentos/Proyectozero/dataset_pulsioximetria.csv\n"
     ]
    }
   ],
   "source": [
    "# Filtrar els registres per al m_item_id específic\n",
    "filtered_data = monitor_events[monitor_events['m_item_id'] == 9]\n",
    "\n",
    "# Ordenar les dades per 'patient_id' i 'm_events_datetime'\n",
    "filtered_data = filtered_data.sort_values(by=['patient_id', 'm_events_datetime'])\n",
    "\n",
    "# Calcular la diferència de temps entre registres consecutius per a cada pacient\n",
    "filtered_data['time_diff'] = filtered_data.groupby('patient_id')['m_events_datetime'].diff()\n",
    "filtered_data['time_diff_in_seconds'] = filtered_data['time_diff'].dt.total_seconds()\n",
    "\n",
    "# Funció per trobar seqüències de com a mínim 30 registres consecutius amb diferència de 5 minuts\n",
    "def find_sequences(data, time_diff_threshold=300, min_consecutive=30):\n",
    "    result = []\n",
    "    for patient_id, group in data.groupby('patient_id'):\n",
    "        count = 0\n",
    "        temp_sequence = []\n",
    "        last_valid_sequence = []\n",
    "        for i in range(1, len(group)):\n",
    "            if abs(group.iloc[i]['time_diff_in_seconds'] - time_diff_threshold) <= 6:\n",
    "                temp_sequence.append(group.iloc[i])\n",
    "                count += 1\n",
    "            else:\n",
    "                if count >= min_consecutive:\n",
    "                    last_valid_sequence = temp_sequence[:]\n",
    "                count = 0\n",
    "                temp_sequence = []\n",
    "            if count >= min_consecutive:\n",
    "                last_valid_sequence = temp_sequence[:]\n",
    "        if count >= min_consecutive:\n",
    "            last_valid_sequence = temp_sequence[:]\n",
    "        result.extend(last_valid_sequence)\n",
    "    return pd.DataFrame(result)\n",
    "\n",
    "# Trobar les seqüències\n",
    "consecutive_sequences = find_sequences(filtered_data)\n",
    "\n",
    "# Unir amb la taula ward_stay_events_table per obtenir dates d'admissió i alta\n",
    "consecutive_sequences = consecutive_sequences.merge(\n",
    "    ward_stay_events[['patient_id', 'hosp_stay_id', 'ward_stay_id', 'ward_adm_date', 'ward_disch_date', 'ward_stay_seq_num', 'to_icu']],\n",
    "    on=['patient_id', 'hosp_stay_id', 'ward_stay_id'],\n",
    "    how='left'\n",
    ")\n",
    "\n",
    "# Filtrar els registres perquè estiguin dins de l'interval d'admissió i d'alta del pacient\n",
    "consecutive_sequences = consecutive_sequences[\n",
    "    (consecutive_sequences['m_events_datetime'] >= consecutive_sequences['ward_adm_date']) &\n",
    "    (consecutive_sequences['m_events_datetime'] <= consecutive_sequences['ward_disch_date'])\n",
    "]\n",
    "\n",
    "# Assegurar eliminar duplicats\n",
    "consecutive_sequences = consecutive_sequences.drop_duplicates()\n",
    "\n",
    "# Obtenir els valors i convertir a format sol·licitat\n",
    "patient_sequences = consecutive_sequences.groupby('patient_id').agg({\n",
    "    'to_icu': 'first',\n",
    "    'value': lambda x: list(x)\n",
    "}).reset_index()\n",
    "\n",
    "# Limitar el nombre de valors a 30 i emplenar amb NaN si n'hi ha menys de 30\n",
    "def pad_or_truncate(lst, target_len=30):  # 30 valors, ja que la primera columna serà 'to_icu'\n",
    "    if len(lst) > target_len:\n",
    "        return lst[:target_len]\n",
    "    return lst + [None] * (target_len - len(lst))\n",
    "\n",
    "patient_sequences['value'] = patient_sequences['value'].apply(pad_or_truncate)\n",
    "\n",
    "# Crear un DataFrame on cada columna sigui un valor consecutiu de 'value'\n",
    "max_values = 30  # Limitar a 30 valores\n",
    "value_columns = pd.DataFrame(patient_sequences['value'].to_list(), columns=[f'value_{i+1}' for i in range(max_values)])\n",
    "\n",
    "# Combinar les columnes amb els resultats\n",
    "final_df = pd.concat([patient_sequences[['patient_id', 'to_icu']], value_columns], axis=1)\n",
    "\n",
    "# Especificar la ruta del fitxer on es desarà el CSV\n",
    "ruta_archivo = 'C:/Users/jbakk/OneDrive/Documentos/Proyectozero/dataset_pulsioximetria.csv'\n",
    "\n",
    "# Desar el DataFrame en un fitxer CSV a la ruta especificada\n",
    "final_df.to_csv(ruta_archivo, index=False)\n",
    "\n",
    "print(f'Registres guardats a: {ruta_archivo}')"
   ]
  },
  {
   "cell_type": "markdown",
   "id": "47236975-4f7e-4098-8b64-c754125b9ba6",
   "metadata": {},
   "source": [
    "ITEM 8 (Pressió sanguínea)"
   ]
  },
  {
   "cell_type": "code",
   "execution_count": 7,
   "id": "097cee12-b8b7-4767-84f9-d5e22b79f2cb",
   "metadata": {},
   "outputs": [
    {
     "name": "stdout",
     "output_type": "stream",
     "text": [
      "Registres guardats a: C:/Users/jbakk/OneDrive/Documentos/Proyectozero/dataset_pressio_sanguinia.csv\n"
     ]
    }
   ],
   "source": [
    "# Filtrar els registres per al m_item_id específic\n",
    "filtered_data = monitor_events[monitor_events['m_item_id'] == 8]\n",
    "\n",
    "# Ordenar les dades per 'patient_id' i 'm_events_datetime'\n",
    "filtered_data = filtered_data.sort_values(by=['patient_id', 'm_events_datetime'])\n",
    "\n",
    "# Calcular la diferència de temps entre registres consecutius per a cada pacient\n",
    "filtered_data['time_diff'] = filtered_data.groupby('patient_id')['m_events_datetime'].diff()\n",
    "filtered_data['time_diff_in_seconds'] = filtered_data['time_diff'].dt.total_seconds()\n",
    "\n",
    "# Funció per trobar seqüències de com a mínim 30 registres consecutius amb diferència de 5 minuts\n",
    "def find_sequences(data, time_diff_threshold=300, min_consecutive=30):\n",
    "    result = []\n",
    "    for patient_id, group in data.groupby('patient_id'):\n",
    "        count = 0\n",
    "        temp_sequence = []\n",
    "        last_valid_sequence = []\n",
    "        for i in range(1, len(group)):\n",
    "            if abs(group.iloc[i]['time_diff_in_seconds'] - time_diff_threshold) <= 6:\n",
    "                temp_sequence.append(group.iloc[i])\n",
    "                count += 1\n",
    "            else:\n",
    "                if count >= min_consecutive:\n",
    "                    last_valid_sequence = temp_sequence[:]\n",
    "                count = 0\n",
    "                temp_sequence = []\n",
    "            if count >= min_consecutive:\n",
    "                last_valid_sequence = temp_sequence[:]\n",
    "        if count >= min_consecutive:\n",
    "            last_valid_sequence = temp_sequence[:]\n",
    "        result.extend(last_valid_sequence)\n",
    "    return pd.DataFrame(result)\n",
    "\n",
    "# Trobar les seqüències\n",
    "consecutive_sequences = find_sequences(filtered_data)\n",
    "\n",
    "# Unir amb la taula ward_stay_events_table per obtenir dates d'admissió i alta\n",
    "consecutive_sequences = consecutive_sequences.merge(\n",
    "    ward_stay_events[['patient_id', 'hosp_stay_id', 'ward_stay_id', 'ward_adm_date', 'ward_disch_date', 'ward_stay_seq_num', 'to_icu']],\n",
    "    on=['patient_id', 'hosp_stay_id', 'ward_stay_id'],\n",
    "    how='left'\n",
    ")\n",
    "\n",
    "# Filtrar els registres perquè estiguin dins de l'interval d'admissió i d'alta del pacient\n",
    "consecutive_sequences = consecutive_sequences[\n",
    "    (consecutive_sequences['m_events_datetime'] >= consecutive_sequences['ward_adm_date']) &\n",
    "    (consecutive_sequences['m_events_datetime'] <= consecutive_sequences['ward_disch_date'])\n",
    "]\n",
    "\n",
    "# Assegurar eliminar duplicats\n",
    "consecutive_sequences = consecutive_sequences.drop_duplicates()\n",
    "\n",
    "# Obtenir els valors i convertir a format sol·licitat\n",
    "patient_sequences = consecutive_sequences.groupby('patient_id').agg({\n",
    "    'to_icu': 'first',\n",
    "    'value': lambda x: list(x)\n",
    "}).reset_index()\n",
    "\n",
    "# Limitar el nombre de valors a 30 i emplenar amb NaN si n'hi ha menys de 30\n",
    "def pad_or_truncate(lst, target_len=30):  # 30 valors, ja que la primera columna serà 'to_icu'\n",
    "    if len(lst) > target_len:\n",
    "        return lst[:target_len]\n",
    "    return lst + [None] * (target_len - len(lst))\n",
    "\n",
    "patient_sequences['value'] = patient_sequences['value'].apply(pad_or_truncate)\n",
    "\n",
    "# Crear un DataFrame on cada columna sigui un valor consecutiu de 'value'\n",
    "max_values = 30  # Limitar a 30 valores\n",
    "value_columns = pd.DataFrame(patient_sequences['value'].to_list(), columns=[f'value_{i+1}' for i in range(max_values)])\n",
    "\n",
    "# Combinar les columnes amb els resultats\n",
    "final_df = pd.concat([patient_sequences[['patient_id', 'to_icu']], value_columns], axis=1)\n",
    "\n",
    "# Especificar la ruta del fitxer on es desarà el CSV\n",
    "ruta_archivo = 'C:/Users/jbakk/OneDrive/Documentos/Proyectozero/dataset_pressio_sanguinia.csv'\n",
    "\n",
    "# Desar el DataFrame en un fitxer CSV a la ruta especificada\n",
    "final_df.to_csv(ruta_archivo, index=False)\n",
    "\n",
    "print(f'Registres guardats a: {ruta_archivo}')"
   ]
  },
  {
   "cell_type": "markdown",
   "id": "05e25b02-6415-4ec1-83d0-1435d5585df6",
   "metadata": {},
   "source": [
    "### REGRESSIÓ LOGÍSTICA - PROCESSAT"
   ]
  },
  {
   "cell_type": "code",
   "execution_count": 8,
   "id": "ae6a3214-817d-4bd4-833e-6dbe277c4ab1",
   "metadata": {},
   "outputs": [
    {
     "name": "stdout",
     "output_type": "stream",
     "text": [
      "Cross-Validation Scores: [0.875 0.875 0.875 0.75  0.75 ]\n",
      "Mean CV Accuracy: 0.825\n"
     ]
    }
   ],
   "source": [
    "# Carregar les dades des de fitxers CSV\n",
    "train_val_data = pd.read_csv(\"C:/Users/jbakk/OneDrive/Documentos/Proyectozero/9.csv\")\n",
    "test_data = pd.read_csv(\"C:/Users/jbakk/OneDrive/Documentos/Proyectozero/2.csv\")\n",
    "\n",
    "# Dividir les dades en característiques (X) i etiquetes (y)\n",
    "X_train_val = train_val_data.drop(columns=['to_icu'])\n",
    "y_train_val = train_val_data['to_icu']\n",
    "X_test = test_data.drop(columns=['to_icu'])\n",
    "y_test = test_data['to_icu']\n",
    "\n",
    "# Dividir les dades en entrenament i validació (70%-30%)\n",
    "X_train, X_val, y_train, y_val = train_test_split(X_train_val, y_train_val, test_size=0.3, random_state=42)\n",
    "\n",
    "# Inicialitzar el model de regressió logística\n",
    "model = LogisticRegression(max_iter=100, random_state=42)\n",
    "\n",
    "# Entrenar el model fent servir les dades d'entrenament\n",
    "model.fit(X_train, y_train)\n",
    "\n",
    "# Avaluar el model utilitzant validació creuada\n",
    "cv_scores = cross_val_score(model, X_train_val, y_train_val, cv=5)\n",
    "print(\"Cross-Validation Scores:\", cv_scores)\n",
    "print(\"Mean CV Accuracy:\", cv_scores.mean())\n",
    "\n",
    "# Fer prediccions al conjunt de prova\n",
    "y_pred = model.predict(X_test)"
   ]
  },
  {
   "cell_type": "markdown",
   "id": "9ddb65eb-3287-4b23-956c-707d5c4efebc",
   "metadata": {},
   "source": [
    "### REGRESSIÓ LOGÍSTICA - AVALUACIÓ"
   ]
  },
  {
   "cell_type": "code",
   "execution_count": 9,
   "id": "f1930dbe-e075-4f52-8ac5-b1016a7b5862",
   "metadata": {},
   "outputs": [
    {
     "name": "stderr",
     "output_type": "stream",
     "text": [
      "C:\\Users\\jbakk\\anaconda3\\Lib\\site-packages\\sklearn\\metrics\\_classification.py:1344: UndefinedMetricWarning: Precision is ill-defined and being set to 0.0 due to no predicted samples. Use `zero_division` parameter to control this behavior.\n",
      "  _warn_prf(average, modifier, msg_start, len(result))\n",
      "C:\\Users\\jbakk\\anaconda3\\Lib\\site-packages\\sklearn\\metrics\\_classification.py:1344: UndefinedMetricWarning: Precision and F-score are ill-defined and being set to 0.0 in labels with no predicted samples. Use `zero_division` parameter to control this behavior.\n",
      "  _warn_prf(average, modifier, msg_start, len(result))\n",
      "C:\\Users\\jbakk\\anaconda3\\Lib\\site-packages\\sklearn\\metrics\\_classification.py:1344: UndefinedMetricWarning: Precision and F-score are ill-defined and being set to 0.0 in labels with no predicted samples. Use `zero_division` parameter to control this behavior.\n",
      "  _warn_prf(average, modifier, msg_start, len(result))\n",
      "C:\\Users\\jbakk\\anaconda3\\Lib\\site-packages\\sklearn\\metrics\\_classification.py:1344: UndefinedMetricWarning: Precision and F-score are ill-defined and being set to 0.0 in labels with no predicted samples. Use `zero_division` parameter to control this behavior.\n",
      "  _warn_prf(average, modifier, msg_start, len(result))\n"
     ]
    },
    {
     "name": "stdout",
     "output_type": "stream",
     "text": [
      "Precisió: 0.92\n",
      "Recall (Sensibilitat): 0.00\n",
      "F1-Score: 0.00\n",
      "Test Accuracy: 0.92\n",
      "Avaluació de la classificació:\n",
      "              precision    recall  f1-score   support\n",
      "\n",
      "         0.0       0.92      1.00      0.96        69\n",
      "         1.0       0.00      0.00      0.00         6\n",
      "\n",
      "    accuracy                           0.92        75\n",
      "   macro avg       0.46      0.50      0.48        75\n",
      "weighted avg       0.85      0.92      0.88        75\n",
      "\n"
     ]
    },
    {
     "data": {
      "image/png": "[encoded data removed]",
      "text/plain": [
       "<Figure size 640x480 with 2 Axes>"
      ]
     },
     "metadata": {},
     "output_type": "display_data"
    }
   ],
   "source": [
    "# Calcular la matriu de confusió\n",
    "conf_matrix = confusion_matrix(y_test, y_pred)\n",
    "\n",
    "# Calcular mètriques de rendiment\n",
    "accuracy = accuracy_score(y_test, y_pred)\n",
    "recall = recall_score(y_test, y_pred)\n",
    "precision = precision_score(y_test, y_pred)\n",
    "f1 = f1_score(y_test, y_pred)\n",
    "\n",
    "# Imprimir les mètriques calculades\n",
    "print(f'Precisió: {accuracy:.2f}')\n",
    "print(f'Recall (Sensibilitat): {recall:.2f}')\n",
    "print(f'F1-Score: {f1:.2f}')\n",
    "\n",
    "# Avaluar el model al conjunt de prova\n",
    "accuracy = accuracy_score(y_test, y_pred)\n",
    "print(\"Test Accuracy:\", accuracy)\n",
    "report = classification_report(y_test, y_pred)\n",
    "print('Avaluació de la classificació:')\n",
    "print(report)\n",
    "\n",
    "# Visualitzar la matriu de confusió\n",
    "disp = ConfusionMatrixDisplay(confusion_matrix=conf_matrix, display_labels=model.classes_)\n",
    "disp.plot(cmap=plt.cm.Blues)\n",
    "plt.title('Matriu de confusió - Conjunt de Predicció')\n",
    "plt.show()"
   ]
  }
 ],
 "metadata": {
  "kernelspec": {
   "display_name": "Python 3 (ipykernel)",
   "language": "python",
   "name": "python3"
  },
  "language_info": {
   "codemirror_mode": {
    "name": "ipython",
    "version": 3
   },
   "file_extension": ".py",
   "mimetype": "text/x-python",
   "name": "python",
   "nbconvert_exporter": "python",
   "pygments_lexer": "ipython3",
   "version": "3.11.7"
  }
 },
 "nbformat": 4,
 "nbformat_minor": 5
}
